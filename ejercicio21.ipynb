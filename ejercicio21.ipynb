{
 "cells": [
  {
   "cell_type": "code",
   "execution_count": 1,
   "metadata": {},
   "outputs": [],
   "source": [
    "from pyspark.sql import Row"
   ]
  },
  {
   "cell_type": "code",
   "execution_count": 9,
   "metadata": {},
   "outputs": [],
   "source": [
    "info = sc.textFile('aeropuertos.txt').map(lambda line: line.split(\",\")).map(lambda x: Row(nombre=x[0],ciudad=x[1],pais=x[2],latitud=int(x[3]),altitud=int(x[4]),longitud=int(x[5]),horario=x[6])).collect()\n",
    "df = sqlContext.createDataFrame(info)\n",
    "sqlContext.registerDataFrameAsTable(df,'aeropuerto')\n",
    "df.registerTempTable('aeropuerto')"
   ]
  },
  {
   "cell_type": "code",
   "execution_count": 10,
   "metadata": {
    "scrolled": true
   },
   "outputs": [
    {
     "name": "stdout",
     "output_type": "stream",
     "text": [
      "+--------+------+\n",
      "|  nombre|ciudad|\n",
      "+--------+------+\n",
      "|zaragoza|   ZAZ|\n",
      "| Camargo|   SDR|\n",
      "+--------+------+\n",
      "\n"
     ]
    }
   ],
   "source": [
    "spain = sqlContext.sql(\"select nombre,ciudad from aeropuerto where pais='Espana'\")\n",
    "spain.show()"
   ]
  },
  {
   "cell_type": "code",
   "execution_count": 11,
   "metadata": {},
   "outputs": [
    {
     "name": "stdout",
     "output_type": "stream",
     "text": [
      "+---------+-------+\n",
      "|   nombre|altitud|\n",
      "+---------+-------+\n",
      "|  Camargo|     84|\n",
      "|    Noain|     92|\n",
      "|    Mahon|     76|\n",
      "|Agoncillo|     79|\n",
      "|Culledero|     54|\n",
      "|    Lujua|     90|\n",
      "+---------+-------+\n",
      "\n"
     ]
    }
   ],
   "source": [
    "latitud = sqlContext.sql(\"select nombre,altitud from aeropuerto where altitud>40\")\n",
    "latitud.show()"
   ]
  },
  {
   "cell_type": "code",
   "execution_count": 13,
   "metadata": {},
   "outputs": [],
   "source": [
    "spain.write.csv('spain.csv')\n",
    "latitud.write.csv('latitud.csv')"
   ]
  },
  {
   "cell_type": "code",
   "execution_count": null,
   "metadata": {},
   "outputs": [],
   "source": []
  }
 ],
 "metadata": {
  "kernelspec": {
   "display_name": "Python 3",
   "language": "python",
   "name": "python3"
  },
  "language_info": {
   "codemirror_mode": {
    "name": "ipython",
    "version": 3
   },
   "file_extension": ".py",
   "mimetype": "text/x-python",
   "name": "python",
   "nbconvert_exporter": "python",
   "pygments_lexer": "ipython3",
   "version": "3.7.1"
  }
 },
 "nbformat": 4,
 "nbformat_minor": 2
}
