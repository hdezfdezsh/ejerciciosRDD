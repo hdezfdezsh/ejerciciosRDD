{
 "cells": [
  {
   "cell_type": "code",
   "execution_count": 5,
   "metadata": {},
   "outputs": [
    {
     "data": {
      "text/plain": [
       "[(0, ('pepe', 'cine')),\n",
       " (1, ('paco', 'musica')),\n",
       " (2, ('maria', 'lectura')),\n",
       " (3, ('lucia', 'bailar'))]"
      ]
     },
     "execution_count": 5,
     "metadata": {},
     "output_type": "execute_result"
    }
   ],
   "source": [
    "usuarios = sc.parallelize([(0,\"pepe\"),(1,\"paco\"),(2,\"maria\"),(3,\"lucia\")])\n",
    "hobbies = sc.parallelize([(0,\"cine\"),(1,\"musica\"),(2,\"lectura\"),(3,\"bailar\")])\n",
    "usuarios.join(hobbies).collect()"
   ]
  },
  {
   "cell_type": "code",
   "execution_count": null,
   "metadata": {},
   "outputs": [],
   "source": []
  }
 ],
 "metadata": {
  "kernelspec": {
   "display_name": "Python 3",
   "language": "python",
   "name": "python3"
  },
  "language_info": {
   "codemirror_mode": {
    "name": "ipython",
    "version": 3
   },
   "file_extension": ".py",
   "mimetype": "text/x-python",
   "name": "python",
   "nbconvert_exporter": "python",
   "pygments_lexer": "ipython3",
   "version": "3.7.1"
  }
 },
 "nbformat": 4,
 "nbformat_minor": 2
}
