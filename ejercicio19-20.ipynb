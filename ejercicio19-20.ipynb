{
 "cells": [
  {
   "cell_type": "code",
   "execution_count": 4,
   "metadata": {},
   "outputs": [
    {
     "name": "stdout",
     "output_type": "stream",
     "text": [
      "[['Warning', ' El equipo se reiniciara en 60 segundos'], ['Warning', ' start-all.sh esta desfasado']]\n",
      "[['Error', ' Fallo al arrancar el servicio'], ['Error', ' Acceso denegado']]\n"
     ]
    }
   ],
   "source": [
    "print(sc.textFile('rdd.log').map(lambda x: x.split(':')).filter(lambda x: x[0]=='Warning').collect())\n",
    "print(sc.textFile('rdd.log').map(lambda x: x.split(':')).filter(lambda x: x[0]=='Error').collect())"
   ]
  },
  {
   "cell_type": "code",
   "execution_count": null,
   "metadata": {},
   "outputs": [],
   "source": []
  }
 ],
 "metadata": {
  "kernelspec": {
   "display_name": "Python 3",
   "language": "python",
   "name": "python3"
  },
  "language_info": {
   "codemirror_mode": {
    "name": "ipython",
    "version": 3
   },
   "file_extension": ".py",
   "mimetype": "text/x-python",
   "name": "python",
   "nbconvert_exporter": "python",
   "pygments_lexer": "ipython3",
   "version": "3.7.1"
  }
 },
 "nbformat": 4,
 "nbformat_minor": 2
}
