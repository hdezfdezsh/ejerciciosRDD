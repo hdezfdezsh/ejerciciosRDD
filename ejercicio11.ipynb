{
 "cells": [
  {
   "cell_type": "code",
   "execution_count": 1,
   "metadata": {},
   "outputs": [
    {
     "name": "stdout",
     "output_type": "stream",
     "text": [
      "[(2000, 75.2), (2001, 82.4), (2002, 86.0), (2004, 21.2)]\n"
     ]
    }
   ],
   "source": [
    "temperatura = sc.parallelize([(2000,24),(2001,28),(2002,30),(2004,-6)]).mapValues(lambda x: x*(9 / 5)+32).collect()\n",
    "print(temperatura)"
   ]
  },
  {
   "cell_type": "code",
   "execution_count": null,
   "metadata": {},
   "outputs": [],
   "source": []
  }
 ],
 "metadata": {
  "kernelspec": {
   "display_name": "Python 3",
   "language": "python",
   "name": "python3"
  },
  "language_info": {
   "codemirror_mode": {
    "name": "ipython",
    "version": 3
   },
   "file_extension": ".py",
   "mimetype": "text/x-python",
   "name": "python",
   "nbconvert_exporter": "python",
   "pygments_lexer": "ipython3",
   "version": "3.7.1"
  }
 },
 "nbformat": 4,
 "nbformat_minor": 2
}
