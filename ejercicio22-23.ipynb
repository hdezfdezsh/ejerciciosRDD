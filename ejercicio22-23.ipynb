{
 "cells": [
  {
   "cell_type": "code",
   "execution_count": 11,
   "metadata": {},
   "outputs": [],
   "source": [
    "from pyspark.sql import Row"
   ]
  },
  {
   "cell_type": "code",
   "execution_count": 12,
   "metadata": {},
   "outputs": [],
   "source": [
    "olimpiadas = sc.textFile('medallistas.txt').map(lambda x: x.split(',')).map(lambda x: Row(nombre=x[0],medallas=x[1],edad=int(x[2]))).collect()\n"
   ]
  },
  {
   "cell_type": "code",
   "execution_count": 16,
   "metadata": {
    "scrolled": false
   },
   "outputs": [
    {
     "name": "stdout",
     "output_type": "stream",
     "text": [
      "+--------+----+\n",
      "|Medallas|Edad|\n",
      "+--------+----+\n",
      "|       1|  29|\n",
      "|       1|  19|\n",
      "|       2|  22|\n",
      "|       1|  88|\n",
      "|       1|  11|\n",
      "|       1|  49|\n",
      "|       1|  78|\n",
      "|       1|  18|\n",
      "|       1|  69|\n",
      "|       1|  15|\n",
      "|       1|  30|\n",
      "|       1|  20|\n",
      "|       1|  47|\n",
      "|       2|  24|\n",
      "+--------+----+\n",
      "\n"
     ]
    }
   ],
   "source": [
    "df = sqlContext.createDataFrame(olimpiadas)\n",
    "sqlContext.registerDataFrameAsTable(df,'medallistas')\n",
    "df.registerTempTable('medallistas')\n",
    "sqlContext.sql(\"Select count(medallas) as Medallas,Edad from medallistas group by edad\").show()"
   ]
  },
  {
   "cell_type": "code",
   "execution_count": 17,
   "metadata": {},
   "outputs": [
    {
     "name": "stdout",
     "output_type": "stream",
     "text": [
      "+------+-------------+--------+\n",
      "|nombre|totalMedallas|medallas|\n",
      "+------+-------------+--------+\n",
      "+------+-------------+--------+\n",
      "\n"
     ]
    }
   ],
   "source": [
    "sqlContext.sql(\"Select nombre,count(medallas) as totalMedallas,medallas from medallistas where medallas='oro' group By nombre,medallas order By count(medallas) DESC\").show()"
   ]
  },
  {
   "cell_type": "code",
   "execution_count": 18,
   "metadata": {},
   "outputs": [
    {
     "name": "stdout",
     "output_type": "stream",
     "text": [
      "+----------+-------------+--------+\n",
      "|    nombre|totalMedallas|medallas|\n",
      "+----------+-------------+--------+\n",
      "| Pokabroma|            1|  Bronce|\n",
      "|  Pochinki|            1|  Bronce|\n",
      "|    ACM1PT|            1|  Bronce|\n",
      "|Chuminamen|            1|  Bronce|\n",
      "|   Jadergo|            1|  Bronce|\n",
      "|    Edriki|            1|  Bronce|\n",
      "|   Josanko|            3|     Oro|\n",
      "| Romonowik|            1|     Oro|\n",
      "|    ACM1PT|            1|     Oro|\n",
      "|   Jadergo|            1|     Oro|\n",
      "| Julandron|            1|     Oro|\n",
      "| Romonowik|            1|   Plata|\n",
      "|  Pichurra|            1|   Plata|\n",
      "| Julandron|            1|   Plata|\n",
      "+----------+-------------+--------+\n",
      "\n"
     ]
    }
   ],
   "source": [
    "sqlContext.sql(\"Select nombre,count(medallas) as totalMedallas,medallas from medallistas group By nombre,medallas order By medallas,count(medallas) DESC\").show()"
   ]
  },
  {
   "cell_type": "code",
   "execution_count": null,
   "metadata": {},
   "outputs": [],
   "source": []
  }
 ],
 "metadata": {
  "kernelspec": {
   "display_name": "Python 3",
   "language": "python",
   "name": "python3"
  },
  "language_info": {
   "codemirror_mode": {
    "name": "ipython",
    "version": 3
   },
   "file_extension": ".py",
   "mimetype": "text/x-python",
   "name": "python",
   "nbconvert_exporter": "python",
   "pygments_lexer": "ipython3",
   "version": "3.7.1"
  }
 },
 "nbformat": 4,
 "nbformat_minor": 2
}
