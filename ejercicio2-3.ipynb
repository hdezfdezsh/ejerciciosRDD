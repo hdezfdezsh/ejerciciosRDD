{
 "cells": [
  {
   "cell_type": "code",
   "execution_count": 7,
   "metadata": {},
   "outputs": [],
   "source": [
    "import pandas as pd"
   ]
  },
  {
   "cell_type": "code",
   "execution_count": 10,
   "metadata": {},
   "outputs": [
    {
     "name": "stdout",
     "output_type": "stream",
     "text": [
      "0      1\n",
      "1      8\n",
      "2     27\n",
      "3     64\n",
      "4    125\n",
      "5    216\n",
      "6    343\n",
      "7    512\n",
      "8    729\n",
      "dtype: int64\n"
     ]
    }
   ],
   "source": [
    "numero = sc.parallelize(([1,2,3,4,5,6,7,8,9])).map(lambda x:(x*x*x)).collect()\n",
    "print(pd.Series(numero))"
   ]
  },
  {
   "cell_type": "code",
   "execution_count": 11,
   "metadata": {},
   "outputs": [
    {
     "name": "stdout",
     "output_type": "stream",
     "text": [
      "8 Numero par\n",
      "64 Numero par\n",
      "216 Numero par\n",
      "512 Numero par\n"
     ]
    }
   ],
   "source": [
    "def Pares():\n",
    "    for x in numero:\n",
    "        if (x % 2==0):\n",
    "            print(x,\"Numero par\")\n",
    "Pares()"
   ]
  },
  {
   "cell_type": "code",
   "execution_count": null,
   "metadata": {},
   "outputs": [],
   "source": []
  }
 ],
 "metadata": {
  "kernelspec": {
   "display_name": "Python 3",
   "language": "python",
   "name": "python3"
  },
  "language_info": {
   "codemirror_mode": {
    "name": "ipython",
    "version": 3
   },
   "file_extension": ".py",
   "mimetype": "text/x-python",
   "name": "python",
   "nbconvert_exporter": "python",
   "pygments_lexer": "ipython3",
   "version": "3.7.1"
  }
 },
 "nbformat": 4,
 "nbformat_minor": 2
}
