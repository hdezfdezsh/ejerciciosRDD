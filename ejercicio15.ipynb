{
 "cells": [
  {
   "cell_type": "code",
   "execution_count": 1,
   "metadata": {},
   "outputs": [
    {
     "name": "stdout",
     "output_type": "stream",
     "text": [
      "[('Alemania', 15.3), ('Italia', 18.36), ('España', 21.42), ('Egipto', 12.24), ('Japon', 15.3), ('Rusia', 18.36)]\n"
     ]
    }
   ],
   "source": [
    "iva = sc.parallelize([('Alemania',15),('Italia',18),('España',21),('Egipto',12),('Japon',15),('Rusia',18)]).mapValues(lambda x: x+((x*2)/100)).collect()\n",
    "print(iva)"
   ]
  },
  {
   "cell_type": "code",
   "execution_count": null,
   "metadata": {},
   "outputs": [],
   "source": []
  }
 ],
 "metadata": {
  "kernelspec": {
   "display_name": "Python 3",
   "language": "python",
   "name": "python3"
  },
  "language_info": {
   "codemirror_mode": {
    "name": "ipython",
    "version": 3
   },
   "file_extension": ".py",
   "mimetype": "text/x-python",
   "name": "python",
   "nbconvert_exporter": "python",
   "pygments_lexer": "ipython3",
   "version": "3.7.1"
  }
 },
 "nbformat": 4,
 "nbformat_minor": 2
}
