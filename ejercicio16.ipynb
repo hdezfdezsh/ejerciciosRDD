{
 "cells": [
  {
   "cell_type": "code",
   "execution_count": 3,
   "metadata": {},
   "outputs": [
    {
     "name": "stdout",
     "output_type": "stream",
     "text": [
      "[('machine', 1), ('aplicado', 1), ('tecnicas', 1), ('y', 1), ('ejemplos', 1), ('en', 1), ('a', 1), ('la', 1), ('deteccion', 1), ('de', 1)]\n"
     ]
    }
   ],
   "source": [
    "prohibido = ('learning', 'ciberseguridad','amenazas')\n",
    "archivo = sc.textFile('palabras.txt').flatMap(lambda x: x.split(' ')).filter(lambda x: x not in prohibido).map(lambda x: (x,1)).reduceByKey(lambda x, y: x+y).collect()\n",
    "print(archivo)"
   ]
  },
  {
   "cell_type": "code",
   "execution_count": null,
   "metadata": {},
   "outputs": [],
   "source": []
  }
 ],
 "metadata": {
  "kernelspec": {
   "display_name": "Python 3",
   "language": "python",
   "name": "python3"
  },
  "language_info": {
   "codemirror_mode": {
    "name": "ipython",
    "version": 3
   },
   "file_extension": ".py",
   "mimetype": "text/x-python",
   "name": "python",
   "nbconvert_exporter": "python",
   "pygments_lexer": "ipython3",
   "version": "3.7.1"
  }
 },
 "nbformat": 4,
 "nbformat_minor": 2
}
