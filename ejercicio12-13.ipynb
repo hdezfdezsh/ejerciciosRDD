{
 "cells": [
  {
   "cell_type": "code",
   "execution_count": 13,
   "metadata": {},
   "outputs": [],
   "source": [
    "import matplotlib.pyplot as plt"
   ]
  },
  {
   "cell_type": "code",
   "execution_count": 2,
   "metadata": {},
   "outputs": [],
   "source": [
    "temperatura = sc.parallelize([(2000,-2),(2001,-4),(2002,30),(2004,-6),(2005,20),(2006,-3),(2007,-8)])"
   ]
  },
  {
   "cell_type": "code",
   "execution_count": 3,
   "metadata": {},
   "outputs": [
    {
     "name": "stdout",
     "output_type": "stream",
     "text": [
      "Temperaturas bajo cero: [(2000, -2), (2001, -4), (2004, -6), (2006, -3), (2007, -8)]\n"
     ]
    }
   ],
   "source": [
    "bajoCero = temperatura.filter(lambda x: x[1]<0).collect()\n",
    "print('Temperaturas bajo cero:',bajoCero)"
   ]
  },
  {
   "cell_type": "code",
   "execution_count": 8,
   "metadata": {
    "scrolled": false
   },
   "outputs": [
    {
     "name": "stdout",
     "output_type": "stream",
     "text": [
      "Las temperaturas mas bajas: [(2007, -8), (2004, -6), (2001, -4)]\n"
     ]
    }
   ],
   "source": [
    "masBajas = temperatura.takeOrdered(3, key=lambda x: x[1])\n",
    "print('Las temperaturas mas bajas:',masBajas)"
   ]
  },
  {
   "cell_type": "code",
   "execution_count": 9,
   "metadata": {},
   "outputs": [
    {
     "name": "stdout",
     "output_type": "stream",
     "text": [
      "Las temperaturas mas altas: [(2000, -2), (2001, -4), (2004, -6)]\n"
     ]
    }
   ],
   "source": [
    "masAltas = temperatura.top(3, lambda x: x[1]<0)\n",
    "print(\"Las temperaturas mas altas:\", masAltas)"
   ]
  },
  {
   "cell_type": "code",
   "execution_count": 16,
   "metadata": {},
   "outputs": [
    {
     "data": {
      "text/plain": [
       "<matplotlib.axes._subplots.AxesSubplot at 0x7f595e45fb00>"
      ]
     },
     "execution_count": 16,
     "metadata": {},
     "output_type": "execute_result"
    },
    {
     "data": {
      "image/png": "[encoded data removed]",
      "text/plain": [
       "<Figure size 432x288 with 1 Axes>"
      ]
     },
     "metadata": {
      "needs_background": "light"
     },
     "output_type": "display_data"
    }
   ],
   "source": [
    "df = sqlContext.createDataFrame(temperatura.sortBy(lambda x: x[1]).collect(),['año','grados'])\n",
    "df.toPandas().plot(kind=\"bar\", x='año', y='grados')\n"
   ]
  },
  {
   "cell_type": "code",
   "execution_count": null,
   "metadata": {},
   "outputs": [],
   "source": []
  }
 ],
 "metadata": {
  "kernelspec": {
   "display_name": "Python 3",
   "language": "python",
   "name": "python3"
  },
  "language_info": {
   "codemirror_mode": {
    "name": "ipython",
    "version": 3
   },
   "file_extension": ".py",
   "mimetype": "text/x-python",
   "name": "python",
   "nbconvert_exporter": "python",
   "pygments_lexer": "ipython3",
   "version": "3.7.1"
  }
 },
 "nbformat": 4,
 "nbformat_minor": 2
}
